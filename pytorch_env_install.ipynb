{
 "cells": [
  {
   "cell_type": "markdown",
   "metadata": {},
   "source": [
    "Project done on VisualStudio Code, will automatically prompt for necessary extensions\n",
    "YOU NEED TO INSTALL PYTHON 3.7.9 ON YOUR SYSTEM !\n",
    "https://www.python.org/downloads/release/python-379/\n",
    "\n",
    "Run the cells below AFTER you have installed python 3.7.9 (and made sure you added it to path if npt dpne automatically)"
   ]
  },
  {
   "cell_type": "code",
   "execution_count": null,
   "metadata": {},
   "outputs": [],
   "source": [
    "!pip install --upgrade pip"
   ]
  },
  {
   "cell_type": "code",
   "execution_count": null,
   "metadata": {},
   "outputs": [],
   "source": [
    "!pipenv install"
   ]
  },
  {
   "cell_type": "markdown",
   "metadata": {},
   "source": [
    "This should add a \"LearningImage-XXXXX\" env to your VSCode, select the running kernel top right of your vscode, chose \"LearningImage-XXXXXX\". Before you can use the notebook, it will prompt you to install the ipynb kernel, accept.\n",
    "\n",
    "If it doesnt show up, restard your vscode\n",
    "\n",
    "If it still doesnt work run it from the command prompt after moving to the LEARNINGIMAGE directory, then enter \"pipenv shell\" and run the rest of the commands here.\n",
    "\n",
    "For MUCH better performance install CUDA version that fits the current torch version installed (on my machine torch = 1.10.1, cuda = 113)"
   ]
  },
  {
   "cell_type": "markdown",
   "metadata": {},
   "source": [
    "Open command prompt, change directory to the current one (LearningImage), \n",
    "\n",
    "\n",
    "\n",
    "-> pipenv shell\n",
    "\n",
    "-> pip3 install torch==1.10.1+cu113 torchvision==0.11.2+cu113 torchaudio===0.10.1+cu113 -f https://download.pytorch.org/whl/cu113/torch_stable.html\n",
    "\n",
    "\n",
    "\n",
    "and try to execute the cell again after restarting the kernel (or vscode)"
   ]
  },
  {
   "cell_type": "markdown",
   "metadata": {},
   "source": [
    "Test those commands out to see if torch and CUDA are ready"
   ]
  },
  {
   "cell_type": "code",
   "execution_count": 1,
   "metadata": {},
   "outputs": [
    {
     "name": "stdout",
     "output_type": "stream",
     "text": [
      "tensor([[0.1958, 0.0025, 0.5314],\n",
      "        [0.1281, 0.7128, 0.6222],\n",
      "        [0.8913, 0.3540, 0.9261],\n",
      "        [0.8802, 0.7338, 0.2043],\n",
      "        [0.9335, 0.3648, 0.7535]])\n"
     ]
    },
    {
     "data": {
      "text/plain": [
       "True"
      ]
     },
     "execution_count": 1,
     "metadata": {},
     "output_type": "execute_result"
    }
   ],
   "source": [
    "import torch\n",
    "x = torch.rand(5,3)\n",
    "print(x)\n",
    "\n",
    "torch.cuda.is_available()"
   ]
  }
 ],
 "metadata": {
  "interpreter": {
   "hash": "81510518243b00ac4f46dfd71942d0ffa4902aa2a68f12cc54092000992e8eb7"
  },
  "kernelspec": {
   "display_name": "Python 3.9.6 64-bit",
   "name": "python3"
  },
  "language_info": {
   "codemirror_mode": {
    "name": "ipython",
    "version": 3
   },
   "file_extension": ".py",
   "mimetype": "text/x-python",
   "name": "python",
   "nbconvert_exporter": "python",
   "pygments_lexer": "ipython3",
   "version": "3.7.9"
  },
  "orig_nbformat": 4
 },
 "nbformat": 4,
 "nbformat_minor": 2
}
